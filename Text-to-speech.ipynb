{
  "nbformat": 4,
  "nbformat_minor": 0,
  "metadata": {
    "colab": {
      "provenance": [],
      "authorship_tag": "ABX9TyOn1YSVaTBZKSdyXbT4B6ii",
      "include_colab_link": true
    },
    "kernelspec": {
      "name": "python3",
      "display_name": "Python 3"
    },
    "language_info": {
      "name": "python"
    }
  },
  "cells": [
    {
      "cell_type": "markdown",
      "metadata": {
        "id": "view-in-github",
        "colab_type": "text"
      },
      "source": [
        "<a href=\"https://colab.research.google.com/github/Valmario/-Criando-um-sistema-de-assist-ncia-virtual-do-zero/blob/main/Text-to-speech.ipynb\" target=\"_parent\"><img src=\"https://colab.research.google.com/assets/colab-badge.svg\" alt=\"Open In Colab\"/></a>"
      ]
    },
    {
      "cell_type": "code",
      "source": [
        "!pip install gTTS googletrans\n"
      ],
      "metadata": {
        "colab": {
          "base_uri": "https://localhost:8080/"
        },
        "id": "216UynlHhoKc",
        "outputId": "7e8c19fa-5394-4ed6-c321-1f9fed689610"
      },
      "execution_count": 8,
      "outputs": [
        {
          "output_type": "stream",
          "name": "stdout",
          "text": [
            "Collecting gTTS\n",
            "  Downloading gTTS-2.5.4-py3-none-any.whl.metadata (4.1 kB)\n",
            "Collecting googletrans\n",
            "  Downloading googletrans-4.0.2-py3-none-any.whl.metadata (10 kB)\n",
            "Requirement already satisfied: requests<3,>=2.27 in /usr/local/lib/python3.11/dist-packages (from gTTS) (2.32.3)\n",
            "Requirement already satisfied: click<8.2,>=7.1 in /usr/local/lib/python3.11/dist-packages (from gTTS) (8.1.8)\n",
            "Requirement already satisfied: httpx>=0.27.2 in /usr/local/lib/python3.11/dist-packages (from httpx[http2]>=0.27.2->googletrans) (0.28.1)\n",
            "Requirement already satisfied: anyio in /usr/local/lib/python3.11/dist-packages (from httpx>=0.27.2->httpx[http2]>=0.27.2->googletrans) (3.7.1)\n",
            "Requirement already satisfied: certifi in /usr/local/lib/python3.11/dist-packages (from httpx>=0.27.2->httpx[http2]>=0.27.2->googletrans) (2025.1.31)\n",
            "Requirement already satisfied: httpcore==1.* in /usr/local/lib/python3.11/dist-packages (from httpx>=0.27.2->httpx[http2]>=0.27.2->googletrans) (1.0.7)\n",
            "Requirement already satisfied: idna in /usr/local/lib/python3.11/dist-packages (from httpx>=0.27.2->httpx[http2]>=0.27.2->googletrans) (3.10)\n",
            "Requirement already satisfied: h11<0.15,>=0.13 in /usr/local/lib/python3.11/dist-packages (from httpcore==1.*->httpx>=0.27.2->httpx[http2]>=0.27.2->googletrans) (0.14.0)\n",
            "Requirement already satisfied: h2<5,>=3 in /usr/local/lib/python3.11/dist-packages (from httpx[http2]>=0.27.2->googletrans) (4.2.0)\n",
            "Requirement already satisfied: charset-normalizer<4,>=2 in /usr/local/lib/python3.11/dist-packages (from requests<3,>=2.27->gTTS) (3.4.1)\n",
            "Requirement already satisfied: urllib3<3,>=1.21.1 in /usr/local/lib/python3.11/dist-packages (from requests<3,>=2.27->gTTS) (2.3.0)\n",
            "Requirement already satisfied: hyperframe<7,>=6.1 in /usr/local/lib/python3.11/dist-packages (from h2<5,>=3->httpx[http2]>=0.27.2->googletrans) (6.1.0)\n",
            "Requirement already satisfied: hpack<5,>=4.1 in /usr/local/lib/python3.11/dist-packages (from h2<5,>=3->httpx[http2]>=0.27.2->googletrans) (4.1.0)\n",
            "Requirement already satisfied: sniffio>=1.1 in /usr/local/lib/python3.11/dist-packages (from anyio->httpx>=0.27.2->httpx[http2]>=0.27.2->googletrans) (1.3.1)\n",
            "Downloading gTTS-2.5.4-py3-none-any.whl (29 kB)\n",
            "Downloading googletrans-4.0.2-py3-none-any.whl (18 kB)\n",
            "Installing collected packages: gTTS, googletrans\n",
            "Successfully installed gTTS-2.5.4 googletrans-4.0.2\n"
          ]
        }
      ]
    },
    {
      "cell_type": "code",
      "source": [
        "from gtts import gTTS\n",
        "from googletrans import Translator\n",
        "from IPython.display import Audio, display"
      ],
      "metadata": {
        "id": "G0_PjoAphrEM"
      },
      "execution_count": 9,
      "outputs": []
    },
    {
      "cell_type": "code",
      "source": [
        "def text_to_speech(text, lang):\n",
        "    try:\n",
        "        tts = gTTS(text=text, lang=lang)\n",
        "        tts.save(\"output.mp3\")\n",
        "        display(Audio(\"output.mp3\", autoplay=True))\n",
        "        print(f\"Áudio reproduzido com sucesso na língua {lang} .\")\n",
        "    except Exception as e:\n",
        "        print(f\"Ocorreu um erro: {e}\")"
      ],
      "metadata": {
        "id": "krtMiHSQhtqr"
      },
      "execution_count": 10,
      "outputs": []
    },
    {
      "cell_type": "code",
      "source": [
        "def translate_text(text, target_lang):\n",
        "    try:\n",
        "        translator = Translator()\n",
        "        translated = translator.translate(text, dest=target_lang)\n",
        "        return translated.text\n",
        "    except Exception as e:\n",
        "        print(f\"Ocorreu um erro durante a tradução: {e}\")\n",
        "        return text\n",
        ""
      ],
      "metadata": {
        "id": "nNXEEAE6hvrL"
      },
      "execution_count": 11,
      "outputs": []
    },
    {
      "cell_type": "code",
      "source": [
        "text = input(\"Digite o texto que você deseja tranformar em áudio: \")\n",
        "\n",
        "translated_text = translate_text(text, target_lang='zh-CN')\n",
        "text_to_speech(translated_text, lang='zh-CN')"
      ],
      "metadata": {
        "colab": {
          "base_uri": "https://localhost:8080/",
          "height": 197
        },
        "id": "Slk03Qwuhxb7",
        "outputId": "f25e4919-d31f-43b6-8684-0b722959e955"
      },
      "execution_count": 12,
      "outputs": [
        {
          "name": "stdout",
          "output_type": "stream",
          "text": [
            "Digite o texto que você deseja tranformar em áudio: Olá mundo!\n"
          ]
        },
        {
          "output_type": "stream",
          "name": "stderr",
          "text": [
            "<ipython-input-12-591b5ef971e3>:3: RuntimeWarning: coroutine 'Translator.translate' was never awaited\n",
            "  translated_text = translate_text(text, target_lang='zh-CN')\n",
            "RuntimeWarning: Enable tracemalloc to get the object allocation traceback\n",
            "WARNING:gtts.lang:'zh-CN' has been deprecated, falling back to 'zh-CN'. This fallback will be removed in a future version.\n"
          ]
        },
        {
          "output_type": "stream",
          "name": "stdout",
          "text": [
            "Ocorreu um erro durante a tradução: 'coroutine' object has no attribute 'text'\n"
          ]
        },
        {
          "output_type": "display_data",
          "data": {
            "text/plain": [
              "<IPython.lib.display.Audio object>"
            ],
            "text/html": [
              "\n",
              "                <audio  controls=\"controls\" autoplay=\"autoplay\">\n",
              "                    <source src=\"data:audio/mpeg;base64,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\" type=\"audio/mpeg\" />\n",
              "                    Your browser does not support the audio element.\n",
              "                </audio>\n",
              "              "
            ]
          },
          "metadata": {}
        },
        {
          "output_type": "stream",
          "name": "stdout",
          "text": [
            "Áudio reproduzido com sucesso na língua zh-CN .\n"
          ]
        }
      ]
    },
    {
      "cell_type": "code",
      "source": [
        "text = input(\"Digite o texto que você deseja tranformar em áudio: \")\n",
        "\n",
        "translated_text = translate_text(text, target_lang='en')\n",
        "text_to_speech(translated_text, lang='en')"
      ],
      "metadata": {
        "colab": {
          "base_uri": "https://localhost:8080/",
          "height": 180
        },
        "id": "O4aGS7JXiWZq",
        "outputId": "6925faa7-a289-4d0b-abca-1df971f8b0b5"
      },
      "execution_count": 15,
      "outputs": [
        {
          "output_type": "stream",
          "name": "stdout",
          "text": [
            "Digite o texto que você deseja tranformar em áudio: Hello World!\n",
            "Ocorreu um erro durante a tradução: 'coroutine' object has no attribute 'text'\n"
          ]
        },
        {
          "output_type": "stream",
          "name": "stderr",
          "text": [
            "<ipython-input-15-443a771e0201>:3: RuntimeWarning: coroutine 'Translator.translate' was never awaited\n",
            "  translated_text = translate_text(text, target_lang='en')\n",
            "RuntimeWarning: Enable tracemalloc to get the object allocation traceback\n"
          ]
        },
        {
          "output_type": "display_data",
          "data": {
            "text/plain": [
              "<IPython.lib.display.Audio object>"
            ],
            "text/html": [
              "\n",
              "                <audio  controls=\"controls\" autoplay=\"autoplay\">\n",
              "                    <source src=\"data:audio/mpeg;base64,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\" type=\"audio/mpeg\" />\n",
              "                    Your browser does not support the audio element.\n",
              "                </audio>\n",
              "              "
            ]
          },
          "metadata": {}
        },
        {
          "output_type": "stream",
          "name": "stdout",
          "text": [
            "Áudio reproduzido com sucesso na língua en .\n"
          ]
        }
      ]
    },
    {
      "cell_type": "code",
      "source": [
        "text = input(\"Digite o texto que você deseja tranformar em áudio: \")\n",
        "\n",
        "translated_text = translate_text(text, target_lang='es')\n",
        "text_to_speech(translated_text, lang='es')"
      ],
      "metadata": {
        "colab": {
          "base_uri": "https://localhost:8080/",
          "height": 180
        },
        "id": "_Z0vb4YQijFr",
        "outputId": "acfe7d38-c027-441a-aea5-db8e4ac843c5"
      },
      "execution_count": 16,
      "outputs": [
        {
          "output_type": "stream",
          "name": "stdout",
          "text": [
            "Digite o texto que você deseja tranformar em áudio: Hola Mundo\n",
            "Ocorreu um erro durante a tradução: 'coroutine' object has no attribute 'text'\n"
          ]
        },
        {
          "output_type": "stream",
          "name": "stderr",
          "text": [
            "<ipython-input-16-cf1146c1782b>:3: RuntimeWarning: coroutine 'Translator.translate' was never awaited\n",
            "  translated_text = translate_text(text, target_lang='es')\n",
            "RuntimeWarning: Enable tracemalloc to get the object allocation traceback\n"
          ]
        },
        {
          "output_type": "display_data",
          "data": {
            "text/plain": [
              "<IPython.lib.display.Audio object>"
            ],
            "text/html": [
              "\n",
              "                <audio  controls=\"controls\" autoplay=\"autoplay\">\n",
              "                    <source src=\"data:audio/mpeg;base64,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\" type=\"audio/mpeg\" />\n",
              "                    Your browser does not support the audio element.\n",
              "                </audio>\n",
              "              "
            ]
          },
          "metadata": {}
        },
        {
          "output_type": "stream",
          "name": "stdout",
          "text": [
            "Áudio reproduzido com sucesso na língua es .\n"
          ]
        }
      ]
    },
    {
      "cell_type": "code",
      "source": [
        "\n",
        "text = input(\"Digite o texto que você deseja tranformar em áudio: \")\n",
        "\n",
        "translated_text = translate_text(text, target_lang='zh-CN')\n",
        "text_to_speech(translated_text, lang='zh-CN')"
      ],
      "metadata": {
        "colab": {
          "base_uri": "https://localhost:8080/",
          "height": 197
        },
        "id": "grHo49I8ixQz",
        "outputId": "43904bc1-cb9b-42a0-b5c8-2f2cea9dafec"
      },
      "execution_count": 17,
      "outputs": [
        {
          "name": "stdout",
          "output_type": "stream",
          "text": [
            "Digite o texto que você deseja tranformar em áudio: 你好世界\n"
          ]
        },
        {
          "output_type": "stream",
          "name": "stderr",
          "text": [
            "<ipython-input-17-591b5ef971e3>:3: RuntimeWarning: coroutine 'Translator.translate' was never awaited\n",
            "  translated_text = translate_text(text, target_lang='zh-CN')\n",
            "RuntimeWarning: Enable tracemalloc to get the object allocation traceback\n",
            "WARNING:gtts.lang:'zh-CN' has been deprecated, falling back to 'zh-CN'. This fallback will be removed in a future version.\n"
          ]
        },
        {
          "output_type": "stream",
          "name": "stdout",
          "text": [
            "Ocorreu um erro durante a tradução: 'coroutine' object has no attribute 'text'\n"
          ]
        },
        {
          "output_type": "display_data",
          "data": {
            "text/plain": [
              "<IPython.lib.display.Audio object>"
            ],
            "text/html": [
              "\n",
              "                <audio  controls=\"controls\" autoplay=\"autoplay\">\n",
              "                    <source src=\"data:audio/mpeg;base64,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\" type=\"audio/mpeg\" />\n",
              "                    Your browser does not support the audio element.\n",
              "                </audio>\n",
              "              "
            ]
          },
          "metadata": {}
        },
        {
          "output_type": "stream",
          "name": "stdout",
          "text": [
            "Áudio reproduzido com sucesso na língua zh-CN .\n"
          ]
        }
      ]
    }
  ]
}